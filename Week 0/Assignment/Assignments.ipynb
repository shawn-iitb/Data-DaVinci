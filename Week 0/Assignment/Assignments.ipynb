{
 "cells": [
  {
   "cell_type": "markdown",
   "metadata": {},
   "source": [
    "# **Week 0 Main Assignment**"
   ]
  },
  {
   "cell_type": "markdown",
   "metadata": {},
   "source": [
    "### Read Lisan_Al_Gaib.pdf for problem description and complete the following functions"
   ]
  },
  {
   "cell_type": "code",
   "execution_count": 1,
   "metadata": {},
   "outputs": [],
   "source": [
    "import time # to time the execution\n",
    "import numpy as np\n",
    "import matplotlib.pyplot as plt"
   ]
  },
  {
   "cell_type": "code",
   "execution_count": 2,
   "metadata": {},
   "outputs": [
    {
     "data": {
      "text/plain": [
       "array([[-2.12729941e+00,  1.75357153e+00],\n",
       "       [-3.40030291e-01, -6.70757901e-03],\n",
       "       [-3.21990680e+00, -2.22002740e+00],\n",
       "       [-3.70958194e+00,  1.33088073e+00],\n",
       "       [-9.94424941e-01,  5.40362889e-01],\n",
       "       [-3.89707753e+00,  1.84954926e+00],\n",
       "       [ 1.62213204e-01, -1.93830445e+00],\n",
       "       [-3.09087516e+00, -2.08297745e+00],\n",
       "       [-2.47878879e+00, -3.76217842e-01],\n",
       "       [-1.84027491e+00, -1.54385430e+00],\n",
       "       [-9.40735526e-01, -2.30253070e+00],\n",
       "       [-2.53927676e+00, -1.16819078e+00],\n",
       "       [-1.71965008e+00,  9.25879807e-01],\n",
       "       [-3.00163109e+00, -4.28827808e-01],\n",
       "       [-1.03792716e+00, -2.76774794e+00],\n",
       "       [-9.62275740e-01, -2.14737938e+00],\n",
       "       [-3.67474204e+00,  1.74442769e+00],\n",
       "       [ 8.28160165e-01,  1.04198674e+00],\n",
       "       [-2.47693115e+00, -2.51163943e+00],\n",
       "       [-5.78834867e-01, -7.99237531e-01],\n",
       "       [-3.38980883e+00, -5.24115449e-01],\n",
       "       [-3.82805739e+00,  1.54660201e+00],\n",
       "       [-2.70610009e+00,  3.12611422e-01],\n",
       "       [-2.44144462e+00, -3.99659894e-01],\n",
       "       [-1.26644860e+00, -2.07572772e+00],\n",
       "       [ 8.47923139e-01,  8.75664117e-01],\n",
       "       [ 6.97494708e-01,  1.47413675e+00],\n",
       "       [-1.01050011e+00,  1.60937118e+00],\n",
       "       [-3.55753749e+00, -2.02008569e+00],\n",
       "       [-3.77386356e+00, -1.37334835e+00],\n",
       "       [ 3.94338645e+00,  4.35674516e+00],\n",
       "       [ 6.14368755e+00,  4.78376663e+00],\n",
       "       [ 3.40467255e+00,  5.71348042e+00],\n",
       "       [ 2.70462112e+00,  7.01098490e+00],\n",
       "       [ 2.37275322e+00,  7.93443468e+00],\n",
       "       [ 5.86122385e+00,  3.99357841e+00],\n",
       "       [ 2.02761059e+00,  7.07730714e+00],\n",
       "       [ 5.53428672e+00,  6.64503584e+00],\n",
       "       [ 5.85635173e+00,  3.37022326e+00],\n",
       "       [ 3.79232864e+00,  3.57934530e+00],\n",
       "       [ 6.31551713e+00,  6.11649063e+00],\n",
       "       [ 3.65449012e+00,  3.31779175e+00],\n",
       "       [ 3.55491161e+00,  4.62591661e+00],\n",
       "       [ 5.64803089e+00,  6.18778736e+00],\n",
       "       [ 6.43606371e+00,  5.36107463e+00],\n",
       "       [ 2.59797123e+00,  6.56622394e+00],\n",
       "       [ 5.80392524e+00,  5.80638599e+00],\n",
       "       [ 5.85483590e+00,  5.46897798e+00],\n",
       "       [ 4.61366415e+00,  5.13770509e+00],\n",
       "       [ 2.12709563e+00,  3.53945713e+00],\n",
       "       [ 2.15714593e+00,  6.18205206e+00],\n",
       "       [ 3.57177991e+00,  5.54285346e+00],\n",
       "       [ 6.53783237e+00,  4.24646115e+00],\n",
       "       [ 4.05191462e+00,  6.77775569e+00],\n",
       "       [ 3.14399083e+00,  3.38489955e+00],\n",
       "       [ 3.44875726e+00,  3.80610644e+00],\n",
       "       [ 6.64848826e+00,  7.04060190e+00],\n",
       "       [ 5.16701878e+00,  7.35730295e+00],\n",
       "       [ 6.01836038e+00,  3.93285029e+00],\n",
       "       [ 6.46279499e+00,  5.69671121e+00]])"
      ]
     },
     "execution_count": 2,
     "metadata": {},
     "output_type": "execute_result"
    }
   ],
   "source": [
    "### TODO 1\n",
    "### Load data from data_path\n",
    "### Check the input file spice_locations.txt to understand the Data Format\n",
    "### Return : np array of size Nx2\n",
    "def load_data(data_path):\n",
    "    arr = np.loadtxt(data_path, delimiter=\",\", dtype=float)\n",
    "    return arr\n",
    "\n",
    "load_data(\"spice_locations.txt\")"
   ]
  },
  {
   "cell_type": "code",
   "execution_count": 3,
   "metadata": {},
   "outputs": [
    {
     "data": {
      "text/plain": [
       "array([[-3.00163109, -0.42882781],\n",
       "       [ 3.14399083,  3.38489955],\n",
       "       [-0.94073553, -2.3025307 ],\n",
       "       [ 3.40467255,  5.71348042]])"
      ]
     },
     "execution_count": 3,
     "metadata": {},
     "output_type": "execute_result"
    }
   ],
   "source": [
    "### TODO 2.1\n",
    "### If init_centers is None, initialize the centers by selecting K data points at random without replacement\n",
    "### Else, use the centers provided in init_centers\n",
    "### Return : np array of size Kx2\n",
    "def initialise_centers(data, K, init_centers=None):\n",
    "    if init_centers is not None:\n",
    "        return init_centers\n",
    "\n",
    "    N = data.shape[0]\n",
    "    choices = np.random.randint(N, size=K)\n",
    "\n",
    "    init_centers = data[choices]\n",
    "    return init_centers\n",
    "    \n",
    "initialise_centers(load_data(\"spice_locations.txt\"), 4)"
   ]
  },
  {
   "cell_type": "code",
   "execution_count": 4,
   "metadata": {},
   "outputs": [
    {
     "data": {
      "text/plain": [
       "array([1., 1., 1., 1., 1., 1., 1., 1., 1., 1., 1., 1., 1., 1., 1., 1., 1.,\n",
       "       1., 1., 1., 1., 1., 1., 1., 1., 1., 1., 1., 1., 1., 1., 1., 1., 1.,\n",
       "       1., 1., 1., 1., 1., 1., 1., 1., 1., 1., 1., 1., 1., 1., 1., 1., 1.,\n",
       "       1., 1., 1., 1., 1., 1., 1., 1., 1.])"
      ]
     },
     "execution_count": 4,
     "metadata": {},
     "output_type": "execute_result"
    }
   ],
   "source": [
    "### TODO 2.2\n",
    "### Initialize the labels to all ones to size (N,) where N is the number of data points\n",
    "### Return : np array of size N\n",
    "def initialise_labels(data):\n",
    "    N = data.shape[0]\n",
    "    return np.ones(N)\n",
    "\n",
    "initialise_labels(load_data(\"spice_locations.txt\"))"
   ]
  },
  {
   "cell_type": "code",
   "execution_count": 5,
   "metadata": {},
   "outputs": [
    {
     "data": {
      "text/plain": [
       "array([[ 1.65990354,  2.95066439,  4.0356003 ,  3.95570301],\n",
       "       [ 0.85294692,  2.48711243,  3.79552947,  3.44645384],\n",
       "       [ 3.54577552,  1.25284377,  0.39239161,  0.1882335 ],\n",
       "       [ 2.82789603,  2.75952399,  3.35441402,  3.46947053],\n",
       "       [ 0.        ,  2.30341546,  3.62290531,  3.35812717],\n",
       "       [ 3.18423633,  3.30913552,  3.88450281,  4.01431546],\n",
       "       [ 2.73525201,  2.80911428,  3.72064959,  3.25630376],\n",
       "       [ 3.35812717,  1.06822069,  0.4708812 ,  0.        ],\n",
       "       [ 1.74455045,  0.79427951,  1.9662147 ,  1.81319555],\n",
       "       [ 2.24931622,  0.79355319,  1.78207382,  1.36185711],\n",
       "       [ 2.84340052,  1.96011763,  2.6320007 ,  2.16131999],\n",
       "       [ 2.30341546,  0.        ,  1.32762188,  1.06822069],\n",
       "       [ 0.82132502,  2.24875955,  3.47225328,  3.30658135],\n",
       "       [ 2.22894754,  0.87202588,  1.68556625,  1.65655533],\n",
       "       [ 3.30839684,  2.19377157,  2.62819997,  2.16414097],\n",
       "       [ 2.68793454,  1.85627113,  2.59838166,  2.12957346],\n",
       "       [ 2.93834507,  3.12612024,  3.76633746,  3.87168317],\n",
       "       [ 1.89035525,  4.02796675,  5.34889068,  5.01240851],\n",
       "       [ 3.39301383,  1.34489451,  1.18715422,  0.74878457],\n",
       "       [ 1.4025849 ,  1.99485812,  3.21918305,  2.82105204],\n",
       "       [ 2.62125506,  1.0668823 ,  1.50534377,  1.5872656 ],\n",
       "       [ 3.0069902 ,  3.00517145,  3.57693195,  3.70368529],\n",
       "       [ 1.72676071,  1.49016952,  2.48322803,  2.42629304],\n",
       "       [ 1.72554594,  0.77473276,  1.96759829,  1.80424999],\n",
       "       [ 2.63019523,  1.56323856,  2.29176446,  1.82444096],\n",
       "       [ 1.87261137,  3.95606699,  5.27194938,  4.92622492],\n",
       "       [ 1.9324921 ,  4.17834708,  5.50589588,  5.19661503],\n",
       "       [ 1.06912914,  3.17049026,  4.43400006,  4.23808905],\n",
       "       [ 3.62290531,  1.32762188,  0.        ,  0.4708812 ],\n",
       "       [ 3.37454733,  1.25151675,  0.68195759,  0.98490944],\n",
       "       [ 6.24073353,  8.51761935,  9.84519332,  9.53681623],\n",
       "       [ 8.30416313, 10.52709201, 11.8493111 , 11.507794  ],\n",
       "       [ 6.79067034,  9.09329049, 10.40578749, 10.14775322],\n",
       "       [ 7.4533141 ,  9.71583141, 10.9897619 , 10.78368808],\n",
       "       [ 8.12466531, 10.34339542, 11.58709729, 11.41051186],\n",
       "       [ 7.67623721,  9.85962837, 11.17484769, 10.81963991],\n",
       "       [ 7.20169   ,  9.42574645, 10.67503795, 10.49331741],\n",
       "       [ 8.93818258, 11.23516522, 12.55968147, 12.27076336],\n",
       "       [ 7.41223656,  9.54378226, 10.84789108, 10.47808509],\n",
       "       [ 5.66995802,  7.91380602,  9.23981383,  8.91293406],\n",
       "       [ 9.1939357 , 11.46620941, 12.79379075, 12.47844112],\n",
       "       [ 5.41539679,  7.64766549,  8.97252907,  8.64107984],\n",
       "       [ 6.11459011,  8.40897213,  9.73428368,  9.44329081],\n",
       "       [ 8.71869386, 11.00647178, 12.33335596, 12.03220801],\n",
       "       [ 8.85728081, 11.09901092, 12.42391213, 12.09034638],\n",
       "       [ 7.01543381,  9.28506801, 10.56480007, 10.35237451],\n",
       "       [ 8.59933512, 10.87445358, 12.20207537, 11.88947138],\n",
       "       [ 8.43822379, 10.70108109, 12.02825205, 11.70716777],\n",
       "       [ 7.25163558,  9.53566392, 10.86289579, 10.55926997],\n",
       "       [ 4.32879394,  6.62849758,  7.95132506,  7.67065772],\n",
       "       [ 6.46227944,  8.72252577,  9.99663294,  9.79042584],\n",
       "       [ 6.77311882,  9.07651521, 10.39351793, 10.12641445],\n",
       "       [ 8.39464499, 10.56940706, 11.8821758 , 11.52275148],\n",
       "       [ 8.02312981, 10.32384953, 11.63210103, 11.38121424],\n",
       "       [ 5.02174013,  7.28218113,  8.60954977,  8.29284226],\n",
       "       [ 5.51424963,  7.78461202,  9.112227  ,  8.80046029],\n",
       "       [10.03330601, 12.32068599, 13.64767457, 13.34522012],\n",
       "       [ 9.18880082, 11.49221625, 12.80832931, 12.54239636],\n",
       "       [ 7.79025859,  9.96261881, 11.27542757, 10.91642596],\n",
       "       [ 9.06631442, 11.32096176, 12.64737196, 12.3205588 ]])"
      ]
     },
     "execution_count": 5,
     "metadata": {},
     "output_type": "execute_result"
    }
   ],
   "source": [
    "### TODO 3.1 : E step\n",
    "### For Each data point, find the distance to each center\n",
    "### Return : np array of size NxK\n",
    "def calculate_distances(data, centers):\n",
    "    arr = []\n",
    "    for d in data:\n",
    "        miniarr = []\n",
    "        for c in centers:\n",
    "            miniarr.append(((d[0] - c[0]) ** 2 + (d[1] - c[1]) ** 2) ** 0.5)\n",
    "        arr.append(miniarr)\n",
    "    \n",
    "    return np.array(arr)\n",
    "\n",
    "_data = load_data(\"spice_locations.txt\")\n",
    "_distances = calculate_distances(_data, initialise_centers(_data, 4))\n",
    "_distances"
   ]
  },
  {
   "cell_type": "code",
   "execution_count": 6,
   "metadata": {},
   "outputs": [
    {
     "data": {
      "text/plain": [
       "array([0, 0, 3, 1, 0, 0, 0, 3, 1, 1, 1, 1, 0, 1, 3, 1, 0, 0, 3, 0, 1, 1,\n",
       "       1, 1, 1, 0, 0, 0, 2, 2, 0, 0, 0, 0, 0, 0, 0, 0, 0, 0, 0, 0, 0, 0,\n",
       "       0, 0, 0, 0, 0, 0, 0, 0, 0, 0, 0, 0, 0, 0, 0, 0])"
      ]
     },
     "execution_count": 6,
     "metadata": {},
     "output_type": "execute_result"
    }
   ],
   "source": [
    "### TODO 3.2 : E step\n",
    "### For Each data point, assign the label of the nearest center\n",
    "### Return : np array of size N\n",
    "def update_labels(distances):\n",
    "    labels = []\n",
    "    for ds in distances:\n",
    "        idx = 0\n",
    "        for i, d in enumerate(ds):\n",
    "            if d < ds[idx]:\n",
    "                idx = i\n",
    "        labels.append(idx)\n",
    "    \n",
    "    return np.array(labels)\n",
    "\n",
    "_labels = update_labels(_distances)\n",
    "_labels"
   ]
  },
  {
   "cell_type": "code",
   "execution_count": 7,
   "metadata": {},
   "outputs": [
    {
     "data": {
      "text/plain": [
       "array([[ 2.9440177 ,  4.03883352],\n",
       "       [-2.42536869, -0.64803414],\n",
       "       [-3.66570052, -1.69671702],\n",
       "       [-2.45641007, -2.39559805]])"
      ]
     },
     "execution_count": 7,
     "metadata": {},
     "output_type": "execute_result"
    }
   ],
   "source": [
    "### TODO 4 : M step\n",
    "### Update the centers to the mean of the data points assigned to it\n",
    "### Return : np array of size Kx2\n",
    "def update_centers(data, labels, K):\n",
    "   arr = []\n",
    "   for i in range(K):\n",
    "      assigned = data[labels == i]\n",
    "      arr.append([assigned[:, 0].mean(), assigned[:, 1].mean()])\n",
    "   \n",
    "   return np.array(arr)\n",
    "\n",
    "update_centers(_data, _labels, 4)"
   ]
  },
  {
   "cell_type": "code",
   "execution_count": 8,
   "metadata": {},
   "outputs": [
    {
     "name": "stdout",
     "output_type": "stream",
     "text": [
      "True\n",
      "False\n"
     ]
    }
   ],
   "source": [
    "### TODO 6 : Check convergence\n",
    "### Check if the labels have changed from the previous iteration\n",
    "### Return : True / False\n",
    "def check_termination(labels1, labels2):\n",
    "    return all(labels1 == labels2)\n",
    "\n",
    "print(check_termination(np.array([1, 2]), np.array([1, 2])))\n",
    "print(check_termination(np.array([1, 2]), np.array([1, 3])))"
   ]
  },
  {
   "cell_type": "code",
   "execution_count": 9,
   "metadata": {},
   "outputs": [],
   "source": [
    "### DON'T CHANGE ANYTHING IN THE FOLLOWING FUNCTION\n",
    "def kmeans(data_path:str, K:int, init_centers):\n",
    "    '''\n",
    "    Input :\n",
    "        data (type str): path to the file containing the data\n",
    "        K (type int): number of clusters\n",
    "        init_centers (type numpy.ndarray): initial centers. shape = (K, 2) or None\n",
    "    Output :\n",
    "        centers (type numpy.ndarray): final centers. shape = (K, 2)\n",
    "        labels (type numpy.ndarray): label of each data point. shape = (N,)\n",
    "        time (type float): time taken by the algorithm to converge in seconds\n",
    "    N is the number of data points each of shape (2,)\n",
    "    '''\n",
    "    data = load_data(data_path)    \n",
    "    centers = initialise_centers(data, K, init_centers)\n",
    "    labels = initialise_labels(data)\n",
    "\n",
    "    start_time = time.time() # Time stamp \n",
    "\n",
    "    while True:\n",
    "        distances = calculate_distances(data, centers)\n",
    "        labels_new = update_labels(distances)\n",
    "        centers = update_centers(data, labels_new, K)\n",
    "        if check_termination(labels, labels_new): break\n",
    "        else: labels = labels_new\n",
    " \n",
    "    end_time = time.time() # Time stamp after the algorithm ends\n",
    "    return centers, labels, end_time - start_time "
   ]
  },
  {
   "cell_type": "code",
   "execution_count": 10,
   "metadata": {},
   "outputs": [],
   "source": [
    "### TODO 7\n",
    "def visualise(data_path, labels, centers):\n",
    "    \n",
    "\n",
    "    # Scatter plot of the data points\n",
    "    data = load_data(data_path=data_path)\n",
    "    K = centers.shape[0]\n",
    "    for i in range(K):\n",
    "        plt.scatter(data[labels == i][:, 0], data[labels == i][:, 1])\n",
    "        plt.scatter([centers[i, 0]], [centers[i, 1]], marker='x')\n",
    "\n",
    "    ### Set title as 'K-means clustering'\n",
    "    plt.title(\"K-means clustering\")\n",
    "\n",
    "    ### Set xlabel as 'Longitude'\n",
    "    plt.xlabel(\"Longitude\")\n",
    "\n",
    "    ### Set ylabel as 'Latitude'\n",
    "    plt.ylabel(\"Latitude\")\n",
    "\n",
    "    ### Save the plot as 'kmeans.png'\n",
    "    plt.savefig(\"kmeans.png\")\n",
    "\n",
    "    ## DO NOT CHANGE THE FOLLOWING LINE\n",
    "    return plt"
   ]
  },
  {
   "cell_type": "code",
   "execution_count": 11,
   "metadata": {},
   "outputs": [
    {
     "name": "stdout",
     "output_type": "stream",
     "text": [
      "Time taken for the algorithm to converge: 0.0008192062377929688\n"
     ]
    },
    {
     "data": {
      "text/plain": [
       "<module 'matplotlib.pyplot' from '/home/shawn/Work/iitb/events/data_davinci/repo/.venv/lib/python3.10/site-packages/matplotlib/pyplot.py'>"
      ]
     },
     "execution_count": 11,
     "metadata": {},
     "output_type": "execute_result"
    },
    {
     "data": {
      "image/png": "[encoded data removed]",
      "text/plain": [
       "<Figure size 640x480 with 1 Axes>"
      ]
     },
     "metadata": {},
     "output_type": "display_data"
    }
   ],
   "source": [
    "### After you have completed the above functions, run the following code to generate the plot\n",
    "data_path = 'spice_locations.txt'\n",
    "K, init_centers = 2, None\n",
    "centers, labels, time_taken = kmeans(data_path, K, init_centers)\n",
    "print('Time taken for the algorithm to converge:', time_taken)\n",
    "visualise(data_path, labels, centers)"
   ]
  },
  {
   "cell_type": "code",
   "execution_count": null,
   "metadata": {},
   "outputs": [],
   "source": []
  }
 ],
 "metadata": {
  "kernelspec": {
   "display_name": ".venv",
   "language": "python",
   "name": "python3"
  },
  "language_info": {
   "codemirror_mode": {
    "name": "ipython",
    "version": 3
   },
   "file_extension": ".py",
   "mimetype": "text/x-python",
   "name": "python",
   "nbconvert_exporter": "python",
   "pygments_lexer": "ipython3",
   "version": "3.12.4"
  }
 },
 "nbformat": 4,
 "nbformat_minor": 2
}
