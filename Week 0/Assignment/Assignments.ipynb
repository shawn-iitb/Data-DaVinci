{
 "cells": [
  {
   "cell_type": "markdown",
   "metadata": {},
   "source": [
    "# **Week 0 Main Assignment**"
   ]
  },
  {
   "cell_type": "markdown",
   "metadata": {},
   "source": [
    "### Read Lisan_Al_Gaib.pdf for problem description and complete the following functions"
   ]
  },
  {
   "cell_type": "code",
   "metadata": {
    "ExecuteTime": {
     "end_time": "2024-12-29T18:11:51.142326Z",
     "start_time": "2024-12-29T18:11:50.800445Z"
    }
   },
   "source": [
    "import time  # to time the execution\n",
    "import numpy as np\n",
    "import matplotlib.pyplot as plt"
   ],
   "outputs": [],
   "execution_count": 1
  },
  {
   "cell_type": "code",
   "metadata": {
    "ExecuteTime": {
     "end_time": "2024-12-29T18:11:51.156518Z",
     "start_time": "2024-12-29T18:11:51.149749Z"
    }
   },
   "source": [
    "### TODO 1\n",
    "### Load data from data_path\n",
    "### Check the input file spice_locations.txt to understand the Data Format\n",
    "### Return : np array of size Nx2\n",
    "def load_data(data_path):\n",
    "    arr = np.loadtxt(data_path, delimiter=\",\", dtype=float)\n",
    "    return arr\n",
    "\n",
    "\n",
    "load_data(\"spice_locations.txt\")"
   ],
   "outputs": [
    {
     "data": {
      "text/plain": [
       "array([[-2.12729941e+00,  1.75357153e+00],\n",
       "       [-3.40030291e-01, -6.70757901e-03],\n",
       "       [-3.21990680e+00, -2.22002740e+00],\n",
       "       [-3.70958194e+00,  1.33088073e+00],\n",
       "       [-9.94424941e-01,  5.40362889e-01],\n",
       "       [-3.89707753e+00,  1.84954926e+00],\n",
       "       [ 1.62213204e-01, -1.93830445e+00],\n",
       "       [-3.09087516e+00, -2.08297745e+00],\n",
       "       [-2.47878879e+00, -3.76217842e-01],\n",
       "       [-1.84027491e+00, -1.54385430e+00],\n",
       "       [-9.40735526e-01, -2.30253070e+00],\n",
       "       [-2.53927676e+00, -1.16819078e+00],\n",
       "       [-1.71965008e+00,  9.25879807e-01],\n",
       "       [-3.00163109e+00, -4.28827808e-01],\n",
       "       [-1.03792716e+00, -2.76774794e+00],\n",
       "       [-9.62275740e-01, -2.14737938e+00],\n",
       "       [-3.67474204e+00,  1.74442769e+00],\n",
       "       [ 8.28160165e-01,  1.04198674e+00],\n",
       "       [-2.47693115e+00, -2.51163943e+00],\n",
       "       [-5.78834867e-01, -7.99237531e-01],\n",
       "       [-3.38980883e+00, -5.24115449e-01],\n",
       "       [-3.82805739e+00,  1.54660201e+00],\n",
       "       [-2.70610009e+00,  3.12611422e-01],\n",
       "       [-2.44144462e+00, -3.99659894e-01],\n",
       "       [-1.26644860e+00, -2.07572772e+00],\n",
       "       [ 8.47923139e-01,  8.75664117e-01],\n",
       "       [ 6.97494708e-01,  1.47413675e+00],\n",
       "       [-1.01050011e+00,  1.60937118e+00],\n",
       "       [-3.55753749e+00, -2.02008569e+00],\n",
       "       [-3.77386356e+00, -1.37334835e+00],\n",
       "       [ 3.94338645e+00,  4.35674516e+00],\n",
       "       [ 6.14368755e+00,  4.78376663e+00],\n",
       "       [ 3.40467255e+00,  5.71348042e+00],\n",
       "       [ 2.70462112e+00,  7.01098490e+00],\n",
       "       [ 2.37275322e+00,  7.93443468e+00],\n",
       "       [ 5.86122385e+00,  3.99357841e+00],\n",
       "       [ 2.02761059e+00,  7.07730714e+00],\n",
       "       [ 5.53428672e+00,  6.64503584e+00],\n",
       "       [ 5.85635173e+00,  3.37022326e+00],\n",
       "       [ 3.79232864e+00,  3.57934530e+00],\n",
       "       [ 6.31551713e+00,  6.11649063e+00],\n",
       "       [ 3.65449012e+00,  3.31779175e+00],\n",
       "       [ 3.55491161e+00,  4.62591661e+00],\n",
       "       [ 5.64803089e+00,  6.18778736e+00],\n",
       "       [ 6.43606371e+00,  5.36107463e+00],\n",
       "       [ 2.59797123e+00,  6.56622394e+00],\n",
       "       [ 5.80392524e+00,  5.80638599e+00],\n",
       "       [ 5.85483590e+00,  5.46897798e+00],\n",
       "       [ 4.61366415e+00,  5.13770509e+00],\n",
       "       [ 2.12709563e+00,  3.53945713e+00],\n",
       "       [ 2.15714593e+00,  6.18205206e+00],\n",
       "       [ 3.57177991e+00,  5.54285346e+00],\n",
       "       [ 6.53783237e+00,  4.24646115e+00],\n",
       "       [ 4.05191462e+00,  6.77775569e+00],\n",
       "       [ 3.14399083e+00,  3.38489955e+00],\n",
       "       [ 3.44875726e+00,  3.80610644e+00],\n",
       "       [ 6.64848826e+00,  7.04060190e+00],\n",
       "       [ 5.16701878e+00,  7.35730295e+00],\n",
       "       [ 6.01836038e+00,  3.93285029e+00],\n",
       "       [ 6.46279499e+00,  5.69671121e+00]])"
      ]
     },
     "execution_count": 2,
     "metadata": {},
     "output_type": "execute_result"
    }
   ],
   "execution_count": 2
  },
  {
   "cell_type": "code",
   "metadata": {
    "ExecuteTime": {
     "end_time": "2024-12-29T18:11:51.422322Z",
     "start_time": "2024-12-29T18:11:51.418606Z"
    }
   },
   "source": [
    "### TODO 2.1\n",
    "### If init_centers is None, initialize the centers by selecting K data points at random without replacement\n",
    "### Else, use the centers provided in init_centers\n",
    "### Return : np array of size Kx2\n",
    "def initialise_centers(data, K, init_centers=None):\n",
    "    if init_centers is not None:\n",
    "        return init_centers\n",
    "\n",
    "    N = data.shape[0]\n",
    "    choices = np.random.randint(N, size=K)\n",
    "\n",
    "    init_centers = data[choices]\n",
    "    return init_centers\n",
    "\n",
    "\n",
    "initialise_centers(load_data(\"spice_locations.txt\"), 4)"
   ],
   "outputs": [
    {
     "data": {
      "text/plain": [
       "array([[ 2.59797123,  6.56622394],\n",
       "       [ 5.53428672,  6.64503584],\n",
       "       [-2.47693115, -2.51163943],\n",
       "       [ 5.64803089,  6.18778736]])"
      ]
     },
     "execution_count": 3,
     "metadata": {},
     "output_type": "execute_result"
    }
   ],
   "execution_count": 3
  },
  {
   "cell_type": "code",
   "metadata": {
    "ExecuteTime": {
     "end_time": "2024-12-29T18:11:51.457848Z",
     "start_time": "2024-12-29T18:11:51.454464Z"
    }
   },
   "source": [
    "### TODO 2.2\n",
    "### Initialize the labels to all ones to size (N,) where N is the number of data points\n",
    "### Return : np array of size N\n",
    "def initialise_labels(data):\n",
    "    N = data.shape[0]\n",
    "    return np.ones(N)\n",
    "\n",
    "\n",
    "initialise_labels(load_data(\"spice_locations.txt\"))"
   ],
   "outputs": [
    {
     "data": {
      "text/plain": [
       "array([1., 1., 1., 1., 1., 1., 1., 1., 1., 1., 1., 1., 1., 1., 1., 1., 1.,\n",
       "       1., 1., 1., 1., 1., 1., 1., 1., 1., 1., 1., 1., 1., 1., 1., 1., 1.,\n",
       "       1., 1., 1., 1., 1., 1., 1., 1., 1., 1., 1., 1., 1., 1., 1., 1., 1.,\n",
       "       1., 1., 1., 1., 1., 1., 1., 1., 1.])"
      ]
     },
     "execution_count": 4,
     "metadata": {},
     "output_type": "execute_result"
    }
   ],
   "execution_count": 4
  },
  {
   "cell_type": "code",
   "metadata": {
    "ExecuteTime": {
     "end_time": "2024-12-29T18:11:51.519747Z",
     "start_time": "2024-12-29T18:11:51.511039Z"
    }
   },
   "source": [
    "### TODO 3.1 : E step\n",
    "### For Each data point, find the distance to each center\n",
    "### Return : np array of size NxK\n",
    "def calculate_distances(data, centers):\n",
    "    d = data[:, np.newaxis, :]\n",
    "    c = centers[np.newaxis, :, :]\n",
    "\n",
    "    arr = d - c\n",
    "    arr = (arr[:, :, 0] ** 2 + arr[:, :, 1] ** 2) ** 0.5\n",
    "\n",
    "    return arr\n",
    "\n",
    "\n",
    "_data = load_data(\"spice_locations.txt\")\n",
    "_distances = calculate_distances(_data, initialise_centers(_data, 4))\n",
    "_distances"
   ],
   "outputs": [
    {
     "data": {
      "text/plain": [
       "array([[ 7.96398847,  2.83858161,  2.3510259 ,  6.19479185],\n",
       "       [ 8.08196275,  1.80813663,  2.69486629,  5.47139521],\n",
       "       [11.56890173,  5.384504  ,  1.80445013,  9.09967964],\n",
       "       [ 9.48205018,  4.40940437,  1.89677846,  7.83161894],\n",
       "       [ 8.02312981,  1.9324921 ,  2.22894754,  5.66995802],\n",
       "       [ 9.35273729,  4.60988379,  2.448025  ,  7.88157101],\n",
       "       [ 9.54460483,  3.45416867,  3.50548576,  6.6047102 ],\n",
       "       [11.38121424,  5.19661503,  1.65655533,  8.91293406],\n",
       "       [ 9.68655895,  3.67594735,  0.52548252,  7.41440446],\n",
       "       [10.19642536,  3.94316429,  1.60997896,  7.61402632],\n",
       "       [10.36234319,  4.11667527,  2.78532817,  7.54972593],\n",
       "       [10.32384953,  4.17834708,  0.87202588,  7.91380602],\n",
       "       [ 8.21920984,  2.47854284,  1.86512949,  6.11741682],\n",
       "       [10.08401471,  4.15990454,  0.        ,  7.88817726],\n",
       "       [10.8177229 ,  4.58315118,  3.05396144,  7.9760243 ],\n",
       "       [10.237194  ,  3.9837441 ,  2.6669064 ,  7.44322769],\n",
       "       [ 9.22147569,  4.38058345,  2.2751083 ,  7.68921759],\n",
       "       [ 6.57963815,  0.45147214,  4.102511  ,  3.90185638],\n",
       "       [11.3542366 ,  5.09542847,  2.147886  ,  8.74092177],\n",
       "       [ 8.88001504,  2.6071532 ,  2.45094775,  6.18700719],\n",
       "       [10.42576472,  4.54962219,  0.399702  ,  8.27172828],\n",
       "       [ 9.45827298,  4.52613224,  2.14133216,  7.88684529],\n",
       "       [ 9.35247845,  3.59633128,  0.79816709,  7.27331604],\n",
       "       [ 9.67879169,  3.65568789,  0.56094532,  7.39543179],\n",
       "       [10.3280761 ,  4.05692138,  2.392308  ,  7.58756075],\n",
       "       [ 6.7156717 ,  0.61708849,  4.06457463,  3.99742613],\n",
       "       [ 6.27538897,  0.        ,  4.15990454,  3.74298011],\n",
       "       [ 7.23465558,  1.7133402 ,  2.84936093,  5.19114265],\n",
       "       [11.63210103,  5.50589588,  1.68556625,  9.23981383],\n",
       "       [11.29970358,  5.30105802,  1.22002542,  9.04303261],\n",
       "       [ 2.42344184,  4.34111097,  8.43415539,  0.79194003],\n",
       "       [ 2.88989729,  6.3729637 , 10.5265376 ,  2.64187801],\n",
       "       [ 1.24563404,  5.02999469,  8.87517192,  2.16905739],\n",
       "       [ 1.36733157,  5.88941796,  9.37614673,  3.59989695],\n",
       "       [ 2.03899222,  6.67397486,  9.94123565,  4.58061109],\n",
       "       [ 3.32042814,  5.74557959,  9.90494192,  2.1099565 ],\n",
       "       [ 2.04634745,  5.75888241,  9.03522737,  3.91790338],\n",
       "       [ 1.48830159,  7.08044874, 11.08609218,  3.52602842],\n",
       "       [ 3.85580998,  5.4962669 ,  9.63829076,  2.07458992],\n",
       "       [ 3.20892722,  3.74298011,  7.88817726,  0.        ],\n",
       "       [ 2.35821284,  7.28790954, 11.38641491,  3.57820997],\n",
       "       [ 3.48271398,  3.48466435,  7.6381351 ,  0.29565134],\n",
       "       [ 2.20848895,  4.25423878,  8.2788099 ,  1.07316278],\n",
       "       [ 1.7016609 ,  6.8356646 , 10.89019048,  3.20118741],\n",
       "       [ 2.77329266,  6.93105044, 11.07217474,  3.18808634],\n",
       "       [ 1.46925051,  5.43517828,  8.960262  ,  3.21682042],\n",
       "       [ 2.00327241,  6.6965675 , 10.78961136,  3.00103834],\n",
       "       [ 2.22787438,  6.52356686, 10.64054137,  2.7972572 ],\n",
       "       [ 1.73358833,  5.36265942,  9.4328686 ,  1.76155535],\n",
       "       [ 3.76716149,  2.51183341,  6.48468374,  1.66571067],\n",
       "       [ 1.98620523,  4.92900073,  8.38550612,  3.07374446],\n",
       "       [ 1.32495769,  4.98156311,  8.88091826,  1.97585577],\n",
       "       [ 3.54784994,  6.46493051, 10.62354413,  2.82539099],\n",
       "       [ 0.        ,  6.27538897, 10.08401471,  3.20892722],\n",
       "       [ 3.51223553,  3.10424834,  7.23278543,  0.67686858],\n",
       "       [ 3.03224308,  3.60659511,  7.71635782,  0.41165751],\n",
       "       [ 2.60984345,  8.14861083, 12.20316285,  4.48753217],\n",
       "       [ 1.2567149 ,  7.38838886, 11.28497554,  4.02029066],\n",
       "       [ 3.4583805 ,  5.86147454, 10.01920566,  2.25392615],\n",
       "       [ 2.64215847,  7.14624534, 11.27375666,  3.4080242 ]])"
      ]
     },
     "execution_count": 5,
     "metadata": {},
     "output_type": "execute_result"
    }
   ],
   "execution_count": 5
  },
  {
   "cell_type": "code",
   "metadata": {
    "ExecuteTime": {
     "end_time": "2024-12-29T18:11:51.567055Z",
     "start_time": "2024-12-29T18:11:51.562251Z"
    }
   },
   "source": [
    "### TODO 3.2 : E step\n",
    "### For Each data point, assign the label of the nearest center\n",
    "### Return : np array of size N\n",
    "def update_labels(distances):\n",
    "    labels = np.argmin(distances, axis=1)\n",
    "    return labels\n",
    "\n",
    "\n",
    "_labels = update_labels(_distances)\n",
    "_labels"
   ],
   "outputs": [
    {
     "data": {
      "text/plain": [
       "array([2, 1, 2, 2, 1, 2, 1, 2, 2, 2, 2, 2, 2, 2, 2, 2, 2, 1, 2, 2, 2, 2,\n",
       "       2, 2, 2, 1, 1, 1, 2, 2, 3, 3, 0, 0, 0, 3, 0, 0, 3, 3, 0, 3, 3, 0,\n",
       "       0, 0, 0, 0, 0, 3, 0, 0, 3, 0, 3, 3, 0, 0, 3, 0])"
      ]
     },
     "execution_count": 6,
     "metadata": {},
     "output_type": "execute_result"
    }
   ],
   "execution_count": 6
  },
  {
   "cell_type": "code",
   "metadata": {
    "ExecuteTime": {
     "end_time": "2024-12-29T18:11:51.603142Z",
     "start_time": "2024-12-29T18:11:51.598578Z"
    }
   },
   "source": [
    "### TODO 4 : M step\n",
    "### Update the centers to the mean of the data points assigned to it\n",
    "### Return : np array of size Kx2\n",
    "def update_centers(data, labels, K):\n",
    "    N = data.shape[0]\n",
    "    brr = np.arange(K)\n",
    "    crr = brr[:, np.newaxis] == labels[np.newaxis, :]\n",
    "    ncrr = crr == False\n",
    "    arr = np.repeat(data[np.newaxis, ...], K, axis=0)\n",
    "    arr = np.reshape(arr, (K, N, 2))\n",
    "    arr[ncrr] = 0\n",
    "    drr = np.sum(arr, axis=1) / np.reshape(np.repeat(np.count_nonzero(crr, axis=1), 2), (K, 2))\n",
    "    \n",
    "    return drr\n",
    "\n",
    "\n",
    "update_centers(_data, _labels, 4)"
   ],
   "outputs": [
    {
     "data": {
      "text/plain": [
       "array([[ 4.5207275 ,  6.3123981 ],\n",
       "       [ 0.02726227,  0.51378709],\n",
       "       [-2.53300302, -0.66426284],\n",
       "       [ 4.50686804,  3.91142847]])"
      ]
     },
     "execution_count": 7,
     "metadata": {},
     "output_type": "execute_result"
    }
   ],
   "execution_count": 7
  },
  {
   "cell_type": "code",
   "metadata": {
    "ExecuteTime": {
     "end_time": "2024-12-29T18:11:51.683473Z",
     "start_time": "2024-12-29T18:11:51.680621Z"
    }
   },
   "source": [
    "### TODO 6 : Check convergence\n",
    "### Check if the labels have changed from the previous iteration\n",
    "### Return : True / False\n",
    "def check_termination(labels1, labels2):\n",
    "    return all(labels1 == labels2)\n",
    "\n",
    "\n",
    "print(check_termination(np.array([1, 2]), np.array([1, 2])))\n",
    "print(check_termination(np.array([1, 2]), np.array([1, 3])))"
   ],
   "outputs": [
    {
     "name": "stdout",
     "output_type": "stream",
     "text": [
      "True\n",
      "False\n"
     ]
    }
   ],
   "execution_count": 8
  },
  {
   "cell_type": "code",
   "metadata": {
    "ExecuteTime": {
     "end_time": "2024-12-29T18:11:51.714591Z",
     "start_time": "2024-12-29T18:11:51.708661Z"
    }
   },
   "source": [
    "### DON'T CHANGE ANYTHING IN THE FOLLOWING FUNCTION\n",
    "def kmeans(data_path: str, K: int, init_centers):\n",
    "    '''\n",
    "    Input :\n",
    "        data (type str): path to the file containing the data\n",
    "        K (type int): number of clusters\n",
    "        init_centers (type numpy.ndarray): initial centers. shape = (K, 2) or None\n",
    "    Output :\n",
    "        centers (type numpy.ndarray): final centers. shape = (K, 2)\n",
    "        labels (type numpy.ndarray): label of each data point. shape = (N,)\n",
    "        time (type float): time taken by the algorithm to converge in seconds\n",
    "    N is the number of data points each of shape (2,)\n",
    "    '''\n",
    "    data = load_data(data_path)\n",
    "    centers = initialise_centers(data, K, init_centers)\n",
    "    labels = initialise_labels(data)\n",
    "\n",
    "    start_time = time.time()  # Time stamp \n",
    "\n",
    "    while True:\n",
    "        distances = calculate_distances(data, centers)\n",
    "        labels_new = update_labels(distances)\n",
    "        centers = update_centers(data, labels_new, K)\n",
    "        if check_termination(labels, labels_new):\n",
    "            break\n",
    "        else:\n",
    "            labels = labels_new\n",
    "\n",
    "    end_time = time.time()  # Time stamp after the algorithm ends\n",
    "    return centers, labels, end_time - start_time"
   ],
   "outputs": [],
   "execution_count": 9
  },
  {
   "cell_type": "code",
   "metadata": {
    "ExecuteTime": {
     "end_time": "2024-12-29T18:11:51.805745Z",
     "start_time": "2024-12-29T18:11:51.802823Z"
    }
   },
   "source": [
    "### TODO 7\n",
    "def visualise(data_path, labels, centers):\n",
    "    # Scatter plot of the data points\n",
    "    data = load_data(data_path=data_path)\n",
    "    K = centers.shape[0]\n",
    "    plt.scatter(data[:, 0], data[:, 1], c=labels)\n",
    "    plt.scatter(centers[:, 0], centers[:, 1], marker='x', color='red')\n",
    "\n",
    "    ### Set title as 'K-means clustering'\n",
    "    plt.title(\"K-means clustering\")\n",
    "\n",
    "    ### Set xlabel as 'Longitude'\n",
    "    plt.xlabel(\"Longitude\")\n",
    "\n",
    "    ### Set ylabel as 'Latitude'\n",
    "    plt.ylabel(\"Latitude\")\n",
    "\n",
    "    ### Save the plot as 'kmeans.png'\n",
    "    plt.savefig(\"kmeans.png\")\n",
    "\n",
    "    ## DO NOT CHANGE THE FOLLOWING LINE\n",
    "    return plt"
   ],
   "outputs": [],
   "execution_count": 10
  },
  {
   "cell_type": "code",
   "metadata": {
    "ExecuteTime": {
     "end_time": "2024-12-29T18:11:51.926720Z",
     "start_time": "2024-12-29T18:11:51.812197Z"
    }
   },
   "source": [
    "### After you have completed the above functions, run the following code to generate the plot\n",
    "data_path = 'spice_locations.txt'\n",
    "K, init_centers = 2, None\n",
    "centers, labels, time_taken = kmeans(data_path, K, init_centers)\n",
    "print('Time taken for the algorithm to converge:', time_taken)\n",
    "visualise(data_path, labels, centers)"
   ],
   "outputs": [
    {
     "name": "stdout",
     "output_type": "stream",
     "text": [
      "Time taken for the algorithm to converge: 0.00029778480529785156\n"
     ]
    },
    {
     "data": {
      "text/plain": [
       "<module 'matplotlib.pyplot' from '/home/shawn/Work/iitb/events/data_davinci/repo/.venv/lib/python3.10/site-packages/matplotlib/pyplot.py'>"
      ]
     },
     "execution_count": 11,
     "metadata": {},
     "output_type": "execute_result"
    },
    {
     "data": {
      "text/plain": [
       "<Figure size 640x480 with 1 Axes>"
      ],
      "image/png": "[encoded data removed]"
     },
     "metadata": {},
     "output_type": "display_data"
    }
   ],
   "execution_count": 11
  },
  {
   "cell_type": "code",
   "metadata": {
    "ExecuteTime": {
     "end_time": "2024-12-29T18:11:51.939689Z",
     "start_time": "2024-12-29T18:11:51.938175Z"
    }
   },
   "source": [],
   "outputs": [],
   "execution_count": null
  }
 ],
 "metadata": {
  "kernelspec": {
   "display_name": ".venv",
   "language": "python",
   "name": "python3"
  },
  "language_info": {
   "codemirror_mode": {
    "name": "ipython",
    "version": 3
   },
   "file_extension": ".py",
   "mimetype": "text/x-python",
   "name": "python",
   "nbconvert_exporter": "python",
   "pygments_lexer": "ipython3",
   "version": "3.12.4"
  }
 },
 "nbformat": 4,
 "nbformat_minor": 2
}
