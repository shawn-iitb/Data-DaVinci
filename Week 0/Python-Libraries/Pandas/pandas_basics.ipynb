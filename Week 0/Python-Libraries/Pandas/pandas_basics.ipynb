{
 "cells": [
  {
   "cell_type": "code",
   "execution_count": 1,
   "metadata": {},
   "outputs": [],
   "source": [
    "# Importing necessary libraries\n",
    "import numpy as np\n",
    "import matplotlib.pyplot as plt\n",
    "import pandas as pd"
   ]
  },
  {
   "cell_type": "code",
   "execution_count": 2,
   "metadata": {},
   "outputs": [
    {
     "name": "stdout",
     "output_type": "stream",
     "text": [
      "a    10\n",
      "b    20\n",
      "c    30\n",
      "d    40\n",
      "e    50\n",
      "dtype: int64\n"
     ]
    }
   ],
   "source": [
    "# Create a Series\n",
    "data = pd.Series([10, 20, 30, 40, 50], index=['a', 'b', 'c', 'd', 'e'])\n",
    "print(data)"
   ]
  },
  {
   "cell_type": "code",
   "execution_count": 3,
   "metadata": {},
   "outputs": [
    {
     "name": "stdout",
     "output_type": "stream",
     "text": [
      "      Name  Age         City\n",
      "0    Alice   25     New York\n",
      "1      Bob   30  Los Angeles\n",
      "2  Charlie   35      Chicago\n"
     ]
    }
   ],
   "source": [
    "# Create a DataFrame\n",
    "data = {\n",
    "    \"Name\": [\"Alice\", \"Bob\", \"Charlie\"],\n",
    "    \"Age\": [25, 30, 35],\n",
    "    \"City\": [\"New York\", \"Los Angeles\", \"Chicago\"]\n",
    "}\n",
    "df = pd.DataFrame(data)\n",
    "print(df)"
   ]
  },
  {
   "cell_type": "code",
   "execution_count": 4,
   "metadata": {},
   "outputs": [
    {
     "name": "stdout",
     "output_type": "stream",
     "text": [
      "      Name   Age      City\n",
      "0  Charlie  47.0  San Jose\n",
      "1    Diana  43.0  New York\n",
      "2   Hannah  21.0   Chicago\n",
      "3      NaN  43.0   Houston\n",
      "4    Fiona  40.0   Houston\n"
     ]
    }
   ],
   "source": [
    "df = pd.read_csv(\"example.csv\")  \n",
    "print(df.head())  # Display the first 5 rows"
   ]
  },
  {
   "cell_type": "code",
   "execution_count": 5,
   "metadata": {},
   "outputs": [],
   "source": [
    "df.to_csv(\"output.csv\", index=False)"
   ]
  },
  {
   "cell_type": "code",
   "execution_count": 6,
   "metadata": {},
   "outputs": [
    {
     "name": "stdout",
     "output_type": "stream",
     "text": [
      "0     Charlie\n",
      "1       Diana\n",
      "2      Hannah\n",
      "3         NaN\n",
      "4       Fiona\n",
      "5      Edward\n",
      "6         NaN\n",
      "7         Ivy\n",
      "8        Jack\n",
      "9      Edward\n",
      "10        Bob\n",
      "11     George\n",
      "Name: Name, dtype: object\n",
      "Name       Diana\n",
      "Age         43.0\n",
      "City    New York\n",
      "Name: 1, dtype: object\n",
      "Name     Charlie\n",
      "Age         47.0\n",
      "City    San Jose\n",
      "Name: 0, dtype: object\n"
     ]
    }
   ],
   "source": [
    "# Access a column\n",
    "print(df[\"Name\"])\n",
    "\n",
    "# Access a row by index\n",
    "print(df.iloc[1])  # Second row\n",
    "\n",
    "# Access a row by label\n",
    "print(df.loc[0])  # First row"
   ]
  },
  {
   "cell_type": "code",
   "execution_count": 7,
   "metadata": {},
   "outputs": [
    {
     "name": "stdout",
     "output_type": "stream",
     "text": [
      "      Name   Age         City\n",
      "0  Charlie  47.0     San Jose\n",
      "1    Diana  43.0     New York\n",
      "3      NaN  43.0      Houston\n",
      "4    Fiona  40.0      Houston\n",
      "6      NaN  38.0  Los Angeles\n"
     ]
    }
   ],
   "source": [
    "# Filter rows where Age > 25\n",
    "filtered_df = df[df[\"Age\"] > 25]\n",
    "print(filtered_df)"
   ]
  },
  {
   "cell_type": "code",
   "execution_count": 8,
   "metadata": {},
   "outputs": [],
   "source": [
    "# Add a new column\n",
    "df[\"Salary\"] = [50000, 60000, 70000, 55000, 65000, 75000, 52000, 62000, 72000, 58000, 68000, 78000]"
   ]
  },
  {
   "cell_type": "code",
   "execution_count": 9,
   "metadata": {},
   "outputs": [
    {
     "name": "stdout",
     "output_type": "stream",
     "text": [
      "             Age        Salary\n",
      "count  10.000000     12.000000\n",
      "mean   32.200000  63750.000000\n",
      "std    10.942273   9096.702699\n",
      "min    18.000000  50000.000000\n",
      "25%    23.250000  57250.000000\n",
      "50%    31.500000  63500.000000\n",
      "75%    42.250000  70500.000000\n",
      "max    47.000000  78000.000000\n",
      "<class 'pandas.core.frame.DataFrame'>\n",
      "RangeIndex: 12 entries, 0 to 11\n",
      "Data columns (total 4 columns):\n",
      " #   Column  Non-Null Count  Dtype  \n",
      "---  ------  --------------  -----  \n",
      " 0   Name    10 non-null     object \n",
      " 1   Age     10 non-null     float64\n",
      " 2   City    12 non-null     object \n",
      " 3   Salary  12 non-null     int64  \n",
      "dtypes: float64(1), int64(1), object(2)\n",
      "memory usage: 512.0+ bytes\n",
      "None\n"
     ]
    }
   ],
   "source": [
    "print(df.describe())  # Summary statistics\n",
    "print(df.info())      # DataFrame information"
   ]
  },
  {
   "cell_type": "code",
   "execution_count": 10,
   "metadata": {},
   "outputs": [
    {
     "name": "stdout",
     "output_type": "stream",
     "text": [
      "       Name   Age         City  Salary\n",
      "0   Charlie  47.0     San Jose   50000\n",
      "1     Diana  43.0     New York   60000\n",
      "3       NaN  43.0      Houston   55000\n",
      "4     Fiona  40.0      Houston   65000\n",
      "6       NaN  38.0  Los Angeles   52000\n",
      "8      Jack  25.0     New York   72000\n",
      "11   George  24.0      Chicago   78000\n",
      "7       Ivy  23.0     New York   62000\n",
      "2    Hannah  21.0      Chicago   70000\n",
      "9    Edward  18.0       Dallas   58000\n",
      "5    Edward   NaN       Dallas   75000\n",
      "10      Bob   NaN  Los Angeles   68000\n"
     ]
    }
   ],
   "source": [
    "# Sort by Age\n",
    "df_sorted = df.sort_values(by=\"Age\", ascending=False)\n",
    "print(df_sorted)"
   ]
  },
  {
   "cell_type": "code",
   "execution_count": 11,
   "metadata": {},
   "outputs": [
    {
     "name": "stdout",
     "output_type": "stream",
     "text": [
      "City\n",
      "Chicago        22.500000\n",
      "Dallas         18.000000\n",
      "Houston        41.500000\n",
      "Los Angeles    38.000000\n",
      "New York       30.333333\n",
      "San Jose       47.000000\n",
      "Name: Age, dtype: float64\n"
     ]
    }
   ],
   "source": [
    "# Group by a column and calculate the mean\n",
    "grouped = df.groupby(\"City\")[\"Age\"].mean()\n",
    "print(grouped)"
   ]
  },
  {
   "cell_type": "code",
   "execution_count": 12,
   "metadata": {},
   "outputs": [
    {
     "name": "stdout",
     "output_type": "stream",
     "text": [
      "       Name   Age         City  Salary\n",
      "0   Charlie  47.0     San Jose   50000\n",
      "1     Diana  43.0     New York   60000\n",
      "2    Hannah  21.0      Chicago   70000\n",
      "3       NaN  43.0      Houston   55000\n",
      "4     Fiona  40.0      Houston   65000\n",
      "5    Edward  32.2       Dallas   75000\n",
      "6       NaN  38.0  Los Angeles   52000\n",
      "7       Ivy  23.0     New York   62000\n",
      "8      Jack  25.0     New York   72000\n",
      "9    Edward  18.0       Dallas   58000\n",
      "10      Bob  32.2  Los Angeles   68000\n",
      "11   George  24.0      Chicago   78000\n",
      "\n",
      "       Name   Age  Salary\n",
      "0   Charlie  47.0   50000\n",
      "1     Diana  43.0   60000\n",
      "2    Hannah  21.0   70000\n",
      "3       NaN  43.0   55000\n",
      "4     Fiona  40.0   65000\n",
      "5    Edward  32.2   75000\n",
      "6       NaN  38.0   52000\n",
      "7       Ivy  23.0   62000\n",
      "8      Jack  25.0   72000\n",
      "9    Edward  18.0   58000\n",
      "10      Bob  32.2   68000\n",
      "11   George  24.0   78000\n",
      "\n",
      "       Name   Age  Salary\n",
      "0   Charlie  47.0   50000\n",
      "1     Diana  43.0   60000\n",
      "2    Hannah  21.0   70000\n",
      "4     Fiona  40.0   65000\n",
      "5    Edward  32.2   75000\n",
      "7       Ivy  23.0   62000\n",
      "8      Jack  25.0   72000\n",
      "9    Edward  18.0   58000\n",
      "10      Bob  32.2   68000\n",
      "11   George  24.0   78000\n"
     ]
    }
   ],
   "source": [
    "# Fill missing values\n",
    "df[\"Age\"] = df[\"Age\"].fillna(df[\"Age\"].mean())\n",
    "print(df)\n",
    "print(\"\")\n",
    "\n",
    "# Drop a column\n",
    "df = df.drop(columns=[\"City\"])\n",
    "print(df)\n",
    "print(\"\")\n",
    "\n",
    "# Drop rows with missing values\n",
    "df = df.dropna()\n",
    "print(df)"
   ]
  },
  {
   "cell_type": "code",
   "execution_count": 13,
   "metadata": {},
   "outputs": [
    {
     "name": "stdout",
     "output_type": "stream",
     "text": [
      "   A  B\n",
      "0  1  3\n",
      "1  2  4\n",
      "0  5  7\n",
      "1  6  8\n"
     ]
    }
   ],
   "source": [
    "df1 = pd.DataFrame({\"A\": [1, 2], \"B\": [3, 4]})\n",
    "df2 = pd.DataFrame({\"A\": [5, 6], \"B\": [7, 8]})\n",
    "result = pd.concat([df1, df2])\n",
    "print(result)"
   ]
  },
  {
   "cell_type": "code",
   "execution_count": 14,
   "metadata": {},
   "outputs": [
    {
     "name": "stdout",
     "output_type": "stream",
     "text": [
      "   ID   Name  Age\n",
      "0   1  Alice   25\n",
      "1   2    Bob   30\n"
     ]
    }
   ],
   "source": [
    "df1 = pd.DataFrame({\"ID\": [1, 2], \"Name\": [\"Alice\", \"Bob\"]})\n",
    "df2 = pd.DataFrame({\"ID\": [1, 2], \"Age\": [25, 30]})\n",
    "merged = pd.merge(df1, df2, on=\"ID\")\n",
    "print(merged)"
   ]
  },
  {
   "cell_type": "code",
   "execution_count": 15,
   "metadata": {},
   "outputs": [
    {
     "data": {
      "image/png": "[encoded data removed]",
      "text/plain": [
       "<Figure size 640x480 with 1 Axes>"
      ]
     },
     "metadata": {},
     "output_type": "display_data"
    }
   ],
   "source": [
    "# Plot data\n",
    "df[\"Age\"].plot(kind=\"bar\", title=\"Age Distribution\", color=\"skyblue\")\n",
    "plt.show()"
   ]
  },
  {
   "cell_type": "markdown",
   "metadata": {},
   "source": [
    "### Some assignment problems"
   ]
  },
  {
   "cell_type": "code",
   "execution_count": 16,
   "metadata": {},
   "outputs": [
    {
     "data": {
      "text/plain": [
       "\"\\nImport videogamesales.csv and perform the following actions on it\\nAdd a column of 'global_sales' showing the total sales of all the different regions to the data frame and sort (highest first) and print the DataFrame according to it.\\nDisplay a plot of the total number of copies sold of each genre globally.\\nFilter out only the games containing 'Grand Theft Auto' in their name and display the following as a DataFrame:\\na. their name\\nb. the platform they were released on\\nc. the year they were released in\\nd. the sum of sales in only Europe and Japan\\nDisplay a pie chart of the total sales of all Grand Theft Auto games combined in North America, Europe, Japan, and other sales.\\n\""
      ]
     },
     "execution_count": 16,
     "metadata": {},
     "output_type": "execute_result"
    }
   ],
   "source": [
    "# Assignment 1\n",
    "'''\n",
    "Import videogamesales.csv and perform the following actions on it\n",
    "Add a column of 'global_sales' showing the total sales of all the different regions to the data frame and sort (highest first) and print the DataFrame according to it.\n",
    "Display a plot of the total number of copies sold of each genre globally.\n",
    "Filter out only the games containing 'Grand Theft Auto' in their name and display the following as a DataFrame:\n",
    "a. their name\n",
    "b. the platform they were released on\n",
    "c. the year they were released in\n",
    "d. the sum of sales in only Europe and Japan\n",
    "Display a pie chart of the total sales of all Grand Theft Auto games combined in North America, Europe, Japan, and other sales.\n",
    "'''"
   ]
  },
  {
   "cell_type": "code",
   "execution_count": 17,
   "metadata": {},
   "outputs": [
    {
     "data": {
      "image/png": "[encoded data removed]",
      "text/plain": [
       "<Figure size 640x480 with 1 Axes>"
      ]
     },
     "metadata": {},
     "output_type": "display_data"
    },
    {
     "name": "stdout",
     "output_type": "stream",
     "text": [
      "                                                    Name Platform    Year  \\\n",
      "14223                                 Grand Theft Auto V      PS3  2013.0   \n",
      "4405                       Grand Theft Auto: San Andreas      PS2  2004.0   \n",
      "14222                                 Grand Theft Auto V     X360  2013.0   \n",
      "2805                         Grand Theft Auto: Vice City      PS2  2002.0   \n",
      "2323                                Grand Theft Auto III      PS2  2001.0   \n",
      "14769                                 Grand Theft Auto V      PS4  2014.0   \n",
      "8316                                 Grand Theft Auto IV     X360  2008.0   \n",
      "8319                                 Grand Theft Auto IV      PS3  2008.0   \n",
      "5173              Grand Theft Auto: Liberty City Stories      PSP  2005.0   \n",
      "6125                 Grand Theft Auto: Vice City Stories      PSP  2006.0   \n",
      "14775                                 Grand Theft Auto V     XOne  2014.0   \n",
      "6128              Grand Theft Auto: Liberty City Stories      PS2  2006.0   \n",
      "1290                                  Grand Theft Auto 2       PS  1998.0   \n",
      "3639   Rockstar Games Double Pack: Grand Theft Auto I...       XB  2003.0   \n",
      "999                                     Grand Theft Auto       PS  1997.0   \n",
      "5197                       Grand Theft Auto: San Andreas       XB  2005.0   \n",
      "3688   Rockstar Games Double Pack: Grand Theft Auto I...      PS2  2003.0   \n",
      "9848                    Grand Theft Auto: Chinatown Wars       DS  2009.0   \n",
      "10007                   Grand Theft Auto: Chinatown Wars      PSP  2009.0   \n",
      "15421                                 Grand Theft Auto V       PC  2015.0   \n",
      "6041                       Grand Theft Auto: San Andreas       PC  2005.0   \n",
      "7199                 Grand Theft Auto: Vice City Stories      PS2  2007.0   \n",
      "9379                                 Grand Theft Auto IV       PC  2008.0   \n",
      "4704                                    Grand Theft Auto      GBA  2004.0   \n",
      "9072                       Grand Theft Auto: San Andreas     X360  2008.0   \n",
      "1469      Grand Theft Auto: Mission Pack #1, London 1969       PS  1998.0   \n",
      "4356                         Grand Theft Auto: Vice City       PC  2003.0   \n",
      "3563                                Grand Theft Auto III       PC  2002.0   \n",
      "\n",
      "       EU_JP_Sales  \n",
      "14223        10.24  \n",
      "4405          0.81  \n",
      "14222         5.37  \n",
      "2805          5.96  \n",
      "2323          4.81  \n",
      "14769         6.17  \n",
      "8316          3.24  \n",
      "8319          4.20  \n",
      "5173          3.07  \n",
      "6125          2.18  \n",
      "14775         2.01  \n",
      "6128          1.47  \n",
      "1290          2.07  \n",
      "3639          0.56  \n",
      "999           1.39  \n",
      "5197          0.61  \n",
      "3688          0.66  \n",
      "9848          0.62  \n",
      "10007         0.53  \n",
      "15421         0.64  \n",
      "6041          0.92  \n",
      "7199          0.06  \n",
      "9379          0.79  \n",
      "4704          0.06  \n",
      "9072          0.03  \n",
      "1469          0.04  \n",
      "4356          0.03  \n",
      "3563          0.01  \n"
     ]
    },
    {
     "name": "stderr",
     "output_type": "stream",
     "text": [
      "/tmp/ipykernel_15873/2567463004.py:19: SettingWithCopyWarning: \n",
      "A value is trying to be set on a copy of a slice from a DataFrame.\n",
      "Try using .loc[row_indexer,col_indexer] = value instead\n",
      "\n",
      "See the caveats in the documentation: https://pandas.pydata.org/pandas-docs/stable/user_guide/indexing.html#returning-a-view-versus-a-copy\n",
      "  to_see[\"EU_JP_Sales\"] = gta[\"EU_Sales\"] + gta[\"JP_Sales\"]\n"
     ]
    },
    {
     "data": {
      "image/png": "[encoded data removed]",
      "text/plain": [
       "<Figure size 1000x1000 with 1 Axes>"
      ]
     },
     "metadata": {},
     "output_type": "display_data"
    }
   ],
   "source": [
    "df = pd.read_csv(\"videogamesales.csv\")\n",
    "# print(\"Imported\")\n",
    "# print(df)\n",
    "\n",
    "df[\"Global_Sales\"] = df[\"NA_Sales\"] + df[\"EU_Sales\"] + df[\"JP_Sales\"] + df[\"Other_Sales\"]\n",
    "# print(\"\\n\\nAdded Global_Sales\")\n",
    "# print(df)\n",
    "\n",
    "df = df.sort_values(\"Global_Sales\", ascending=False)\n",
    "# print(\"\\n\\nSorted by global sales\")\n",
    "# print(df)\n",
    "\n",
    "grouped = df.groupby(\"Genre\")[\"Global_Sales\"].sum()\n",
    "grouped.plot(kind=\"bar\", title=\"Sales in each Genre\")\n",
    "plt.show()\n",
    "\n",
    "gta = df[df[\"Name\"].str.contains(\"Grand Theft Auto\")]\n",
    "to_see = gta[[\"Name\", \"Platform\", \"Year\"]]\n",
    "to_see[\"EU_JP_Sales\"] = gta[\"EU_Sales\"] + gta[\"JP_Sales\"]\n",
    "print(to_see)\n",
    "\n",
    "regions = [\"NA_Sales\", \"EU_Sales\", \"JP_Sales\", \"Other_Sales\"]\n",
    "pie = pd.DataFrame({\"Sales\": [df[region].sum() for region in regions]}, index=regions)\n",
    "pie.plot(kind=\"pie\", y=\"Sales\", figsize=(10, 10))\n",
    "plt.show()"
   ]
  },
  {
   "cell_type": "code",
   "execution_count": null,
   "metadata": {},
   "outputs": [],
   "source": []
  }
 ],
 "metadata": {
  "kernelspec": {
   "display_name": ".venv",
   "language": "python",
   "name": "python3"
  },
  "language_info": {
   "codemirror_mode": {
    "name": "ipython",
    "version": 3
   },
   "file_extension": ".py",
   "mimetype": "text/x-python",
   "name": "python",
   "nbconvert_exporter": "python",
   "pygments_lexer": "ipython3",
   "version": "3.10.12"
  }
 },
 "nbformat": 4,
 "nbformat_minor": 2
}
