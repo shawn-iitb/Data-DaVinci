{
 "cells": [
  {
   "cell_type": "code",
   "execution_count": 1,
   "metadata": {},
   "outputs": [],
   "source": [
    "# Importing the most important library numpy\n",
    "# Numpy is preffered over python lists since most of its implementations are faster (the functions are tied closer with hardware)\n",
    "import numpy as np"
   ]
  },
  {
   "cell_type": "markdown",
   "metadata": {},
   "source": [
    "### Run the following to grasp the basics of numpy"
   ]
  },
  {
   "cell_type": "code",
   "execution_count": 2,
   "metadata": {},
   "outputs": [
    {
     "name": "stdout",
     "output_type": "stream",
     "text": [
      "1D Array: [1 2 3]\n",
      "2D Array:\n",
      " [[1 2 3]\n",
      " [4 5 6]]\n",
      "Zeros Array:\n",
      " [[0. 0. 0.]\n",
      " [0. 0. 0.]]\n",
      "Ones Array:\n",
      " [[1. 1.]\n",
      " [1. 1.]\n",
      " [1. 1.]]\n",
      "Range Array: [0 2 4 6 8]\n",
      "Linspace Array: [0.   0.25 0.5  0.75 1.  ]\n",
      "Random Array:\n",
      " [[0.12213816 0.76532588 0.06518427]\n",
      " [0.43141766 0.48744984 0.91353351]\n",
      " [0.66048093 0.98743427 0.34246877]]\n"
     ]
    }
   ],
   "source": [
    "# 1D array\n",
    "arr1 = np.array([1, 2, 3])\n",
    "print(\"1D Array:\", arr1)\n",
    "\n",
    "# 2D array\n",
    "arr2 = np.array([[1, 2, 3], [4, 5, 6]])\n",
    "print(\"2D Array:\\n\", arr2)\n",
    "\n",
    "# Array of zeros\n",
    "zeros = np.zeros((2, 3))\n",
    "print(\"Zeros Array:\\n\", zeros)\n",
    "\n",
    "# Array of ones\n",
    "ones = np.ones((3, 2))\n",
    "print(\"Ones Array:\\n\", ones)\n",
    "\n",
    "# Array with a range of values\n",
    "range_arr = np.arange(0, 10, 2)\n",
    "print(\"Range Array:\", range_arr)\n",
    "\n",
    "# Array with equally spaced values\n",
    "linspace_arr = np.linspace(0, 1, 5)\n",
    "print(\"Linspace Array:\", linspace_arr)\n",
    "\n",
    "# Random array\n",
    "random_arr = np.random.rand(3, 3)  # Uniform distribution\n",
    "print(\"Random Array:\\n\", random_arr)\n"
   ]
  },
  {
   "cell_type": "code",
   "execution_count": 3,
   "metadata": {},
   "outputs": [
    {
     "name": "stdout",
     "output_type": "stream",
     "text": [
      "Shape: (2, 3)\n",
      "Size: 6\n",
      "Data Type: int64\n",
      "Number of Dimensions: 2\n"
     ]
    }
   ],
   "source": [
    "# In a numpy array, all the elements must be homogenous (of the same data type)\n",
    "arr = np.array([[1, 2, 3], [4, 5, 6]])\n",
    "\n",
    "print(\"Shape:\", arr.shape)  # Dimensions\n",
    "print(\"Size:\", arr.size)  # Total number of elements\n",
    "print(\"Data Type:\", arr.dtype)  # Type of elements\n",
    "print(\"Number of Dimensions:\", arr.ndim)  # Number of dimensions"
   ]
  },
  {
   "cell_type": "code",
   "execution_count": 4,
   "metadata": {},
   "outputs": [
    {
     "name": "stdout",
     "output_type": "stream",
     "text": [
      "Element at [0, 1]: 2\n",
      "First row: [1 2 3]\n",
      "First column: [1 4]\n",
      "Subarray:\n",
      " [[2 3]\n",
      " [5 6]]\n"
     ]
    }
   ],
   "source": [
    "arr = np.array([[1, 2, 3], [4, 5, 6]])\n",
    "\n",
    "# Accessing elements\n",
    "print(\"Element at [0, 1]:\", arr[0, 1])  # Row 0, Column 1\n",
    "\n",
    "# Slicing\n",
    "print(\"First row:\", arr[0, :])  # All columns of the first row\n",
    "print(\"First column:\", arr[:, 0])  # All rows of the first column\n",
    "print(\"Subarray:\\n\", arr[0:2, 1:3])  # Rows 0-1 and Columns 1-2"
   ]
  },
  {
   "cell_type": "code",
   "execution_count": 5,
   "metadata": {},
   "outputs": [
    {
     "name": "stdout",
     "output_type": "stream",
     "text": [
      "Addition: [5 7 9]\n",
      "Multiplication: [ 4 10 18]\n",
      "Division: [4.  2.5 2. ]\n",
      "Multiply by scalar: [2 4 6]\n",
      "Square root: [1.         1.41421356 1.73205081]\n",
      "Exponential: [ 2.71828183  7.3890561  20.08553692]\n"
     ]
    }
   ],
   "source": [
    "arr1 = np.array([1, 2, 3])\n",
    "arr2 = np.array([4, 5, 6])\n",
    "\n",
    "# Element-wise operations\n",
    "print(\"Addition:\", arr1 + arr2)\n",
    "print(\"Multiplication:\", arr1 * arr2)\n",
    "print(\"Division:\", arr2 / arr1)\n",
    "\n",
    "# Broadcasting\n",
    "scalar = 2\n",
    "print(\"Multiply by scalar:\", arr1 * scalar)\n",
    "\n",
    "# Mathematical functions\n",
    "print(\"Square root:\", np.sqrt(arr1))\n",
    "print(\"Exponential:\", np.exp(arr1))"
   ]
  },
  {
   "cell_type": "code",
   "execution_count": 6,
   "metadata": {},
   "outputs": [
    {
     "name": "stdout",
     "output_type": "stream",
     "text": [
      "Reshaped Array:\n",
      " [[1 2]\n",
      " [3 4]\n",
      " [5 6]]\n",
      "Transposed Array:\n",
      " [[1 4]\n",
      " [2 5]\n",
      " [3 6]]\n"
     ]
    }
   ],
   "source": [
    "arr = np.array([[1, 2, 3], [4, 5, 6]])\n",
    "\n",
    "# Reshape\n",
    "reshaped = arr.reshape((3, 2))\n",
    "print(\"Reshaped Array:\\n\", reshaped)\n",
    "\n",
    "# Transpose\n",
    "transposed = arr.T\n",
    "print(\"Transposed Array:\\n\", transposed)"
   ]
  },
  {
   "cell_type": "code",
   "execution_count": 7,
   "metadata": {},
   "outputs": [
    {
     "name": "stdout",
     "output_type": "stream",
     "text": [
      "Stacked Vertically:\n",
      " [[1 2 3]\n",
      " [4 5 6]]\n",
      "Stacked Horizontally: [1 2 3 4 5 6]\n",
      "Split Array: [array([4]), array([5]), array([6])]\n"
     ]
    }
   ],
   "source": [
    "arr1 = np.array([1, 2, 3])\n",
    "arr2 = np.array([4, 5, 6])\n",
    "\n",
    "# Stacking\n",
    "stacked = np.vstack((arr1, arr2))  # Vertical stack\n",
    "print(\"Stacked Vertically:\\n\", stacked)\n",
    "\n",
    "hstacked = np.hstack((arr1, arr2))  # Horizontal stack\n",
    "print(\"Stacked Horizontally:\", hstacked)\n",
    "\n",
    "# Splitting\n",
    "split = np.split(arr2, 3)  # Split into 3 parts\n",
    "print(\"Split Array:\", split)"
   ]
  },
  {
   "cell_type": "code",
   "execution_count": 8,
   "metadata": {},
   "outputs": [
    {
     "name": "stdout",
     "output_type": "stream",
     "text": [
      "Even Numbers: [2 4 6]\n",
      "Masking: [False  True False  True False  True]\n",
      "Numbers greater than 3: [4 5 6]\n"
     ]
    }
   ],
   "source": [
    "arr = np.array([1, 2, 3, 4, 5, 6])\n",
    "\n",
    "# Boolean indexing\n",
    "even = arr[arr % 2 == 0]\n",
    "print(\"Even Numbers:\", even)\n",
    "# Masking is a common technique used\n",
    "print(\"Masking:\", arr % 2 == 0)\n",
    "\n",
    "# Filtering\n",
    "filtered = arr[arr > 3]\n",
    "print(\"Numbers greater than 3:\", filtered)"
   ]
  },
  {
   "cell_type": "code",
   "execution_count": 9,
   "metadata": {},
   "outputs": [
    {
     "name": "stdout",
     "output_type": "stream",
     "text": [
      "Sum: 21\n",
      "Mean: 3.5\n",
      "Maximum: 6\n",
      "Minimum: 1\n",
      "Standard Deviation: 1.707825127659933\n"
     ]
    }
   ],
   "source": [
    "arr = np.array([[1, 2, 3], [4, 5, 6]])\n",
    "\n",
    "print(\"Sum:\", np.sum(arr))\n",
    "print(\"Mean:\", np.mean(arr))\n",
    "print(\"Maximum:\", np.max(arr))\n",
    "print(\"Minimum:\", np.min(arr))\n",
    "print(\"Standard Deviation:\", np.std(arr))"
   ]
  },
  {
   "cell_type": "markdown",
   "metadata": {},
   "source": [
    "### Some assignment problems"
   ]
  },
  {
   "cell_type": "code",
   "execution_count": 10,
   "metadata": {},
   "outputs": [
    {
     "data": {
      "text/plain": [
       "'\\nCreate an array of 18 random elements of shape (3, 6) and add the array [0, 0, 2, 4, 5, 3] to each row.\\nThen reshape it to a (9, 2) array and take its transpose. \\nFind the locations where all elements are greater than the mean of the array and print it\\n'"
      ]
     },
     "execution_count": 10,
     "metadata": {},
     "output_type": "execute_result"
    }
   ],
   "source": [
    "# Assignment 1\n",
    "'''\n",
    "Create an array of 18 random elements of shape (3, 6) and add the array [0, 0, 2, 4, 5, 3] to each row.\n",
    "Then reshape it to a (9, 2) array and take its transpose. \n",
    "Find the locations where all elements are greater than the mean of the array and print it\n",
    "'''"
   ]
  },
  {
   "cell_type": "code",
   "execution_count": 11,
   "metadata": {},
   "outputs": [
    {
     "name": "stdout",
     "output_type": "stream",
     "text": [
      "Created array of 18 random elements of shape (3, 6)\n",
      "[[0.38657382 0.8570738  0.11745851 0.98502068 0.09515903 0.34605211]\n",
      " [0.32982184 0.87658106 0.04818746 0.5201581  0.97624046 0.09171586]\n",
      " [0.46044999 0.90753714 0.89397434 0.75799675 0.15412569 0.6914267 ]]\n",
      "Added [0, 0, 2, 4, 5, 3] to each row\n",
      "[[0.38657382 0.8570738  2.11745851 4.98502068 5.09515903 3.34605211]\n",
      " [0.32982184 0.87658106 2.04818746 4.5201581  5.97624046 3.09171586]\n",
      " [0.46044999 0.90753714 2.89397434 4.75799675 5.15412569 3.6914267 ]]\n",
      "Reshaped to a (9, 2) array\n",
      "[[0.38657382 0.8570738 ]\n",
      " [2.11745851 4.98502068]\n",
      " [5.09515903 3.34605211]\n",
      " [0.32982184 0.87658106]\n",
      " [2.04818746 4.5201581 ]\n",
      " [5.97624046 3.09171586]\n",
      " [0.46044999 0.90753714]\n",
      " [2.89397434 4.75799675]\n",
      " [5.15412569 3.6914267 ]]\n",
      "Transposed\n",
      "[[0.38657382 2.11745851 5.09515903 0.32982184 2.04818746 5.97624046\n",
      "  0.46044999 2.89397434 5.15412569]\n",
      " [0.8570738  4.98502068 3.34605211 0.87658106 4.5201581  3.09171586\n",
      "  0.90753714 4.75799675 3.6914267 ]]\n",
      "Locations\n",
      "[[False False  True False False  True False  True  True]\n",
      " [False  True  True False  True  True False  True  True]]\n",
      "Elements greater than the mean\n",
      "[5.09515903 5.97624046 2.89397434 5.15412569 4.98502068 3.34605211\n",
      " 4.5201581  3.09171586 4.75799675 3.6914267 ]\n"
     ]
    }
   ],
   "source": [
    "arr = np.random.rand(3, 6)\n",
    "print(\"Created array of 18 random elements of shape (3, 6)\")\n",
    "print(arr)\n",
    "\n",
    "arr += [0, 0, 2, 4, 5, 3]\n",
    "print(\"Added [0, 0, 2, 4, 5, 3] to each row\")\n",
    "print(arr)\n",
    "\n",
    "arr = arr.reshape(9, 2)\n",
    "print(\"Reshaped to a (9, 2) array\")\n",
    "print(arr)\n",
    "\n",
    "arr = arr.T\n",
    "print(\"Transposed\")\n",
    "print(arr)\n",
    "\n",
    "locs = arr > np.mean(arr)\n",
    "print(\"Locations\")\n",
    "print(locs)\n",
    "\n",
    "print(\"Elements greater than the mean\")\n",
    "print(arr[locs])"
   ]
  },
  {
   "cell_type": "code",
   "execution_count": 12,
   "metadata": {},
   "outputs": [
    {
     "data": {
      "text/plain": [
       "'\\nCreate an array of length 20 that models a poisson distribution and center it around the mean and normalise it by dividing it by the standard deviation\\n(Centering around some value \"a\" is subtracting \"a\" from each element and normalising is to divide it by some factor)\\n'"
      ]
     },
     "execution_count": 12,
     "metadata": {},
     "output_type": "execute_result"
    }
   ],
   "source": [
    "# Assignment 2\n",
    "'''\n",
    "Create an array of length 20 that models a poisson distribution and center it around the mean and normalise it by dividing it by the standard deviation\n",
    "(Centering around some value \"a\" is subtracting \"a\" from each element and normalising is to divide it by some factor)\n",
    "'''"
   ]
  },
  {
   "cell_type": "code",
   "execution_count": 13,
   "metadata": {},
   "outputs": [
    {
     "name": "stdout",
     "output_type": "stream",
     "text": [
      "Created an array of length 20 that models a poisson distribution\n",
      "[0 4 0 0 2 1 0 1 0 4 1 0 0 1 1 1 0 2 1 2]\n",
      "Centered it around the mean\n",
      "[-1.05  2.95 -1.05 -1.05  0.95 -0.05 -1.05 -0.05 -1.05  2.95 -0.05 -1.05\n",
      " -1.05 -0.05 -0.05 -0.05 -1.05  0.95 -0.05  0.95]\n",
      "Normalised it by dividing it by the standard deviation\n",
      "[-0.87273022  2.45195632 -0.87273022 -0.87273022  0.78961305 -0.04155858\n",
      " -0.87273022 -0.04155858 -0.87273022  2.45195632 -0.04155858 -0.87273022\n",
      " -0.87273022 -0.04155858 -0.04155858 -0.04155858 -0.87273022  0.78961305\n",
      " -0.04155858  0.78961305]\n"
     ]
    }
   ],
   "source": [
    "# Hint use np.random.poisson\n",
    "\n",
    "arr = np.random.poisson(size=20)\n",
    "print(\"Created an array of length 20 that models a poisson distribution\")\n",
    "print(arr)\n",
    "\n",
    "arr = arr - np.mean(arr)\n",
    "print(\"Centered it around the mean\")\n",
    "print(arr)\n",
    "\n",
    "arr = arr / np.std(arr)\n",
    "print(\"Normalised it by dividing it by the standard deviation\")\n",
    "print(arr)"
   ]
  },
  {
   "cell_type": "code",
   "execution_count": null,
   "metadata": {},
   "outputs": [],
   "source": []
  }
 ],
 "metadata": {
  "kernelspec": {
   "display_name": ".venv",
   "language": "python",
   "name": "python3"
  },
  "language_info": {
   "codemirror_mode": {
    "name": "ipython",
    "version": 3
   },
   "file_extension": ".py",
   "mimetype": "text/x-python",
   "name": "python",
   "nbconvert_exporter": "python",
   "pygments_lexer": "ipython3",
   "version": "3.10.12"
  }
 },
 "nbformat": 4,
 "nbformat_minor": 2
}
